{
 "cells": [
  {
   "cell_type": "code",
   "execution_count": null,
   "metadata": {},
   "outputs": [],
   "source": [
    "import numpy as np\n",
    "import pandas as pd"
   ]
  },
  {
   "cell_type": "code",
   "execution_count": null,
   "metadata": {},
   "outputs": [],
   "source": [
    "import matplotlib.pyplot as plt   \n",
    "from pydotplus import graph_from_dot_data\n",
    "from IPython.display import Image  \n",
    "import seaborn as sns\n",
    "from IPython.display import HTML, display\n",
    "import tabulate"
   ]
  },
  {
   "cell_type": "code",
   "execution_count": null,
   "metadata": {},
   "outputs": [],
   "source": [
    "from sklearn.model_selection import KFold\n",
    "from sklearn.model_selection import cross_val_score"
   ]
  },
  {
   "cell_type": "code",
   "execution_count": null,
   "metadata": {},
   "outputs": [],
   "source": [
    "from sklearn import tree\n",
    "from sklearn.tree import DecisionTreeClassifier, export_graphviz\n",
    "from sklearn.ensemble import RandomForestRegressor"
   ]
  },
  {
   "cell_type": "code",
   "execution_count": null,
   "metadata": {},
   "outputs": [],
   "source": [
    "#reading datafiles\n",
    "#df1 = pd.read_csv('data/2014 excel.csv',na_values=[\" \",\"NA\",\"NaN\",\"\"])\n",
    "#df2 = pd.read_csv('data/2015 excel.csv',na_values=[\" \",\"NA\",\"NaN\",\"\"])\n",
    "result = pd.read_csv('data/2016 excel.csv',na_values=[\" \",\"NA\",\"NaN\",\"\"])\n",
    "\n",
    "#merging datafiles\n",
    "#frames = [df1, df2, df3]\n",
    "#result = pd.concat(frames, axis=0)\n",
    "result.isnull().sum() "
   ]
  },
  {
   "cell_type": "code",
   "execution_count": null,
   "metadata": {},
   "outputs": [],
   "source": [
    "#dropping unnecessary columns\n",
    "result= result.drop(['Grid Ref: Northing','Grid Ref: Easting','Reference Number','Expr1','Accident Date','Day','Time (24hr)','1st Road Class'],axis=1)\n",
    "\n",
    "#dropping observations with missing values\n",
    "result= result.dropna(axis=0)"
   ]
  },
  {
   "cell_type": "code",
   "execution_count": null,
   "metadata": {},
   "outputs": [],
   "source": [
    "result.head(3)"
   ]
  },
  {
   "cell_type": "code",
   "execution_count": null,
   "metadata": {},
   "outputs": [],
   "source": [
    "result.columns"
   ]
  },
  {
   "cell_type": "code",
   "execution_count": null,
   "metadata": {},
   "outputs": [],
   "source": [
    "result[\"Road Surface\"].value_counts()"
   ]
  },
  {
   "cell_type": "code",
   "execution_count": null,
   "metadata": {},
   "outputs": [],
   "source": [
    "result[\"Number of Vehicles\"].value_counts()"
   ]
  },
  {
   "cell_type": "code",
   "execution_count": null,
   "metadata": {},
   "outputs": [],
   "source": [
    "result[\"Lighting Conditions\"].value_counts()"
   ]
  },
  {
   "cell_type": "code",
   "execution_count": null,
   "metadata": {},
   "outputs": [],
   "source": [
    "result[\"Weather Conditions\"].value_counts()"
   ]
  },
  {
   "cell_type": "code",
   "execution_count": null,
   "metadata": {},
   "outputs": [],
   "source": [
    "result[\"Casualty Class\"].value_counts()"
   ]
  },
  {
   "cell_type": "code",
   "execution_count": null,
   "metadata": {},
   "outputs": [],
   "source": [
    "result[\"Casualty Severity\"].value_counts()          "
   ]
  },
  {
   "cell_type": "code",
   "execution_count": null,
   "metadata": {},
   "outputs": [],
   "source": [
    "result[\"Sex of Casualty\"].value_counts()"
   ]
  },
  {
   "cell_type": "code",
   "execution_count": null,
   "metadata": {},
   "outputs": [],
   "source": [
    "result[\"Type of Vehicle\"].value_counts()"
   ]
  },
  {
   "cell_type": "code",
   "execution_count": null,
   "metadata": {},
   "outputs": [],
   "source": [
    "cleanup_nums = {\"Road Surface\":     {\"Dry\": 1, \"Wet or Damp\": 2, \"Snow\": 3,\"Frost or Ice\": 3, \"Flood (surface water over 3cm deep)\": 4},\n",
    "                \"Lighting Conditions\": {\"Daylight street lights present\": 1, \"Darkness street lights present and lit\": 2, \"Darkness no street lighting\": 3, \n",
    "                                  \"Darkness street lighting unknown\": 3, \"Darkness street lights present but unlit\": 3},\n",
    "               \"Weather Conditions\":     {\"Fine without high winds\": 1, \"Raining without high winds\": 2, \"Unknown\": 5, \n",
    "                                  \"Raining with high winds\": 3, \"Fine with high winds\": 1,\"Other\": 5,\"Snowing without high winds\": 4,\n",
    "                                          \"Fog or mist \": 4,\"Snowing with high winds\": 4, \"Darkness: street lighting unknown\": 5},\n",
    "               \"Casualty Class\":     {\"Driver\": 1, \"Passenger\": 2,\"Driver  \": 1,\"Pedestrian\": 3},\n",
    "                \"Casualty Severity\":     {\"Slight\": 1, \"Serious\": 2,\"Fatal\": 3},\n",
    "               \"Sex of Casualty\":     {\"Male\": 1, \"Female\": 2},\n",
    "                 \"Type of Vehicle\":     {\"Car\": 1, \"Pedal cycle\": 2,\"Bus or coach (17 or more passenger seats)\": 3,\n",
    "                                         \"Taxi or Private hire car\": 1,\n",
    "                                      \"Motorcycle over 50cc and up to 125cc\": 2, \"Goods vehicle 3.5 tonnes mgw and under\": 3,\n",
    "                                         \"Motorcycle over 500cc\" : 2,\"M cycle 50cc and under\": 2,\n",
    "                                      \"Motorcycle over 125cc and up to 500cc\": 2, \"Goods vehicle 7.5 tonnes mgw and over\": 3,\n",
    "                                         \"Other Vehicle \": 4,\"Minibus (8 to 16 passenger seats)\": 3,\n",
    "                         \"Mobility Scooter\" : 2, \"Goods vehicle over 3.5 tonnes and under 7.5 tonnes mgw\": 3,\n",
    "                                         \"Agricultural vehicle (includes diggers etc.)\": 3,\"Minibus (8  to 16 passenger seats)\": 3,\n",
    "                                      \"Motorcycle Unknown CC\": 2, \"Tram or Light rail\": 4,\"Ridden horse\": 4}}"
   ]
  },
  {
   "cell_type": "code",
   "execution_count": null,
   "metadata": {},
   "outputs": [],
   "source": [
    "result.replace(cleanup_nums, inplace=True)\n",
    "result.head()"
   ]
  },
  {
   "cell_type": "code",
   "execution_count": null,
   "metadata": {},
   "outputs": [],
   "source": [
    "result.shape"
   ]
  },
  {
   "cell_type": "code",
   "execution_count": null,
   "metadata": {},
   "outputs": [],
   "source": [
    "sorted(result[\"Weather Conditions\"].unique())"
   ]
  },
  {
   "cell_type": "code",
   "execution_count": null,
   "metadata": {},
   "outputs": [],
   "source": [
    "result.isnull().sum() "
   ]
  },
  {
   "cell_type": "code",
   "execution_count": null,
   "metadata": {},
   "outputs": [],
   "source": [
    "result.corr()"
   ]
  },
  {
   "cell_type": "code",
   "execution_count": null,
   "metadata": {},
   "outputs": [],
   "source": [
    "import matplotlib.pyplot as plt"
   ]
  },
  {
   "cell_type": "code",
   "execution_count": null,
   "metadata": {},
   "outputs": [],
   "source": [
    "plt.plot()"
   ]
  },
  {
   "cell_type": "code",
   "execution_count": null,
   "metadata": {},
   "outputs": [],
   "source": [
    "#result.plot(\"Casualty Severity\", kind=\"bar\")"
   ]
  },
  {
   "cell_type": "code",
   "execution_count": null,
   "metadata": {},
   "outputs": [],
   "source": [
    "result['Casualty Severity'].value_counts()"
   ]
  },
  {
   "cell_type": "code",
   "execution_count": null,
   "metadata": {},
   "outputs": [],
   "source": [
    "#dividing dataset into two: X- independent variables and y- dependent variable  \n",
    "X = result.drop('Casualty Severity', axis=1)\n",
    "y = result['Casualty Severity']"
   ]
  },
  {
   "cell_type": "code",
   "execution_count": null,
   "metadata": {},
   "outputs": [],
   "source": [
    "#defining the model with max_depth=6\n",
    "tree = DecisionTreeClassifier(criterion='gini',max_depth=7,random_state=1)  \n",
    "tree.fit(X, y) \n",
    "y_pred=tree.predict(X)\n",
    "\n",
    "#evaluation procedure\n",
    "kfold = KFold(n_splits=10, shuffle=True, random_state=1)\n",
    "\n",
    "#cross validation\n",
    "score = cross_val_score(tree, X, y, cv=kfold)\n",
    "print(\"mean accuracy %.2f%% (standard deviation %.2f%%)\" % (score.mean()*100, score.std()*100))\n",
    "#The results are summarized as both the mean and standard deviation of the model accuracy on the dataset."
   ]
  },
  {
   "cell_type": "code",
   "execution_count": null,
   "metadata": {},
   "outputs": [],
   "source": [
    "result.hist(bins=15, figsize=(20, 6), layout=(2, 5));"
   ]
  },
  {
   "cell_type": "code",
   "execution_count": null,
   "metadata": {},
   "outputs": [],
   "source": [
    "f, ax = plt.subplots(nrows=1,ncols=3,figsize=(20, 8)) \n",
    "for i,j in zip(X.columns.tolist(), ax.flatten()):\n",
    "    sns.countplot(x=X[i],ax=j)  "
   ]
  },
  {
   "cell_type": "code",
   "execution_count": null,
   "metadata": {},
   "outputs": [],
   "source": [
    "corr = result.corr()\n",
    "sns.heatmap(corr)"
   ]
  },
  {
   "cell_type": "code",
   "execution_count": null,
   "metadata": {},
   "outputs": [],
   "source": [
    "from sklearn.cluster import AgglomerativeClustering\n",
    "ag_cluster= AgglomerativeClustering(n_clusters=3)"
   ]
  },
  {
   "cell_type": "code",
   "execution_count": null,
   "metadata": {},
   "outputs": [],
   "source": [
    "import sklearn.linear_model as lm\n",
    "lr =lm.LassoLars()\n",
    "Y_ =result['Casualty Severity']\n",
    "ind_var = result.columns\n",
    "ind_vars = ind_var.delete(5)\n",
    "X_ = result[ind_vars]\n",
    "ind_vars"
   ]
  },
  {
   "cell_type": "code",
   "execution_count": null,
   "metadata": {},
   "outputs": [],
   "source": [
    "lr.fit(X_,Y_)"
   ]
  },
  {
   "cell_type": "code",
   "execution_count": null,
   "metadata": {},
   "outputs": [],
   "source": [
    "print(\"Coefficient of determination\", lr.coef_)"
   ]
  },
  {
   "cell_type": "code",
   "execution_count": null,
   "metadata": {},
   "outputs": [],
   "source": [
    "print(\"Coefficient path\", lr.coef_path_)"
   ]
  },
  {
   "cell_type": "code",
   "execution_count": null,
   "metadata": {},
   "outputs": [],
   "source": [
    "print(\"Intercept\", lr.intercept_)"
   ]
  },
  {
   "cell_type": "code",
   "execution_count": null,
   "metadata": {},
   "outputs": [],
   "source": [
    "print(\"Alphas\", lr.alphas_)"
   ]
  },
  {
   "cell_type": "code",
   "execution_count": null,
   "metadata": {},
   "outputs": [],
   "source": [
    "print(\"Number of iterations\", lr.n_iter_)"
   ]
  },
  {
   "cell_type": "code",
   "execution_count": null,
   "metadata": {},
   "outputs": [],
   "source": [
    "Y_pred = lr.predict(X)\n",
    "result[\"Predicted Casualty Severity\"] = Y_pred\n",
    "result.head(3)"
   ]
  },
  {
   "cell_type": "code",
   "execution_count": null,
   "metadata": {},
   "outputs": [],
   "source": [
    "plt.scatter(result[\"Age of Casualty\"],result[\"Casualty Severity\"], color= \"green\")\n",
    "plt.scatter(result[\"Age of Casualty\"],result[\"Predicted Casualty Severity\"], color= \"red\")\n",
    "plt.title(\"Actual vs Predicted- based on Age of Casualty\")\n",
    "plt.xlabel(\"Age of victim\")\n",
    "plt.ylabel(\"Casualty Severity\")"
   ]
  },
  {
   "cell_type": "code",
   "execution_count": null,
   "metadata": {},
   "outputs": [],
   "source": [
    "accident_case={}\n",
    "for feature in ind_vars:\n",
    "    temp=input(\"Enter \"+feature+\": \")\n",
    "    accident_case[feature]=temp\n",
    "user_case=pd.DataFrame(data=accident_case, index=[0], columns=ind_vars)\n",
    "casualty= lr.predict(user_case)\n",
    "print(\"Casualty Severity of the victim is\", int(casualty[3]))"
   ]
  },
  {
   "cell_type": "code",
   "execution_count": null,
   "metadata": {},
   "outputs": [],
   "source": []
  },
  {
   "cell_type": "code",
   "execution_count": null,
   "metadata": {},
   "outputs": [],
   "source": []
  }
 ],
 "metadata": {
  "kernelspec": {
   "display_name": "Python 3",
   "language": "python",
   "name": "python3"
  },
  "language_info": {
   "codemirror_mode": {
    "name": "ipython",
    "version": 3
   },
   "file_extension": ".py",
   "mimetype": "text/x-python",
   "name": "python",
   "nbconvert_exporter": "python",
   "pygments_lexer": "ipython3",
   "version": "3.6.10"
  }
 },
 "nbformat": 4,
 "nbformat_minor": 4
}
